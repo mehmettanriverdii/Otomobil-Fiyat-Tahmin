{
 "cells": [
  {
   "cell_type": "markdown",
   "id": "56956e76-22b2-4ffb-9029-712e21d15100",
   "metadata": {},
   "source": [
    "# 2.El Otomobil Fiyat Tahmini\n",
    "Satıcılar otomobil fiyatlarını belirlerken motor gücü, motor hacmi, otomobilin yaşı, otomobilin kaç km yaptığı, değişen-boyalı parça sayısı ve diğer parametreler gibi birkaç faktöre bağlı olarak otomobil fiyatlarını belirlediklerini görürüz. Bir satıcı otomobili ilana koyarken ortalama kaç para ettiğini bilmek isteyebilir ya da tam tersi olarak bir müşteri satın alacağı otomobilin ortalama fiyatını öğrenmek isteyebilir. Bu çalışma, geçmiş ikinci el ilan verilerinden yola çıkarak otomobil özellikleri ile fiyat arasında istatistiksel bir ilişki kurmayı ve bu ilişki üzerinden fiyat tahmin modelleri geliştirmeyi hedeflemektedir. Böylece hem alıcılar hem de satıcılar için karar destek sağlayan bir sistem oluşturulması amaçlanmaktadır.\n",
    "\n",
    "* Veri seti içerisinde bulunan sütunların isimleri ve açıklamaları:\n",
    "  1. id - Her otomobil için benzersiz numara\n",
    "  2. marka - Otomobilin markası\n",
    "  3. seri - Otomobilin serisi veya alt modeli\n",
    "  4. model - Otomobilin model tipi\n",
    "  5. yil - Otomobilin üretim yılı\n",
    "  6. kilometre - Otomobilin o zamana kadar yaptığı toplam yol (km cinsinden)\n",
    "  7. vites_tipi - Otomobilin vites türü (örneğin: Otomatik, Manuel, Yarı Otomatik)\n",
    "  8. yakit_tipi - Otomobilin yakıt türü (örneğin: Benzin, Dizel, Hibrit, LPG&Benzin, Elektrik)\n",
    "  9. kasa_tipi - Otomobilin gövde tipi (örneğin: Sedan, Hatchback)\n",
    "  10. renk - Otomobilin dış rengi\n",
    "  11. motor_hacmi - Otomobilin motor hacminin ortalaması (cm3)\n",
    "  12. motor_gucu - Otomobilin motor gücünün ortalaması (hp)\n",
    "  13. degisen_sayisi - Otomobilde kaç adet değişen parça olduğunun sayısı\n",
    "  14. boyali_sayisi - Otomobilde kaç adet boyalı parça olduğunun saysısı \n",
    "  15. kimden - İlan sahibinin türü (örneğin: Sahibinden, Galeriden)\n",
    "  16. fiyat - Otomobilin satış fiyatı (TL cinsinden)\n"
   ]
  },
  {
   "cell_type": "code",
   "execution_count": 2,
   "id": "3792ec46-25d9-47c0-a7b3-0476a8272619",
   "metadata": {},
   "outputs": [],
   "source": [
    "import pandas as pd\n",
    "import seaborn as sns\n",
    "import matplotlib.pyplot as plt \n",
    "import numpy as np\n",
    "from warnings import filterwarnings\n",
    "import missingno as msno\n",
    "filterwarnings(\"ignore\")"
   ]
  },
  {
   "cell_type": "code",
   "execution_count": 4,
   "id": "02ea99bf-49f4-4e5b-be27-c8c2efe4a905",
   "metadata": {},
   "outputs": [],
   "source": [
    "df = pd.read_csv(\"araba_bilgileri.csv\")"
   ]
  },
  {
   "cell_type": "code",
   "execution_count": 6,
   "id": "f9e22f89-8863-4d88-9e36-bdf2ed67be14",
   "metadata": {},
   "outputs": [
    {
     "data": {
      "text/html": [
       "<div>\n",
       "<style scoped>\n",
       "    .dataframe tbody tr th:only-of-type {\n",
       "        vertical-align: middle;\n",
       "    }\n",
       "\n",
       "    .dataframe tbody tr th {\n",
       "        vertical-align: top;\n",
       "    }\n",
       "\n",
       "    .dataframe thead th {\n",
       "        text-align: right;\n",
       "    }\n",
       "</style>\n",
       "<table border=\"1\" class=\"dataframe\">\n",
       "  <thead>\n",
       "    <tr style=\"text-align: right;\">\n",
       "      <th></th>\n",
       "      <th>id</th>\n",
       "      <th>marka</th>\n",
       "      <th>seri</th>\n",
       "      <th>model</th>\n",
       "      <th>yil</th>\n",
       "      <th>kilometre</th>\n",
       "      <th>vites_tipi</th>\n",
       "      <th>yakit_tipi</th>\n",
       "      <th>kasa_tipi</th>\n",
       "      <th>renk</th>\n",
       "      <th>motor_hacmi</th>\n",
       "      <th>motor_gucu</th>\n",
       "      <th>degisen_sayisi</th>\n",
       "      <th>boyali_sayisi</th>\n",
       "      <th>kimden</th>\n",
       "      <th>fiyat</th>\n",
       "    </tr>\n",
       "  </thead>\n",
       "  <tbody>\n",
       "    <tr>\n",
       "      <th>0</th>\n",
       "      <td>1</td>\n",
       "      <td>Lexus</td>\n",
       "      <td>ES</td>\n",
       "      <td>300h Business Plus</td>\n",
       "      <td>2023.0</td>\n",
       "      <td>43000.0</td>\n",
       "      <td>Otomatik</td>\n",
       "      <td>Benzin</td>\n",
       "      <td>Sedan</td>\n",
       "      <td>Siyah</td>\n",
       "      <td>2250.0</td>\n",
       "      <td>213.0</td>\n",
       "      <td>1.0</td>\n",
       "      <td>1.0</td>\n",
       "      <td>Galeriden</td>\n",
       "      <td>4950000.0</td>\n",
       "    </tr>\n",
       "    <tr>\n",
       "      <th>1</th>\n",
       "      <td>2</td>\n",
       "      <td>Lexus</td>\n",
       "      <td>GS</td>\n",
       "      <td>200t Luxury</td>\n",
       "      <td>2023.0</td>\n",
       "      <td>25000.0</td>\n",
       "      <td>Otomatik</td>\n",
       "      <td>Benzin</td>\n",
       "      <td>Hatchback/5</td>\n",
       "      <td>Mavi</td>\n",
       "      <td>NaN</td>\n",
       "      <td>213.0</td>\n",
       "      <td>1.0</td>\n",
       "      <td>0.0</td>\n",
       "      <td>Galeriden</td>\n",
       "      <td>1265000.0</td>\n",
       "    </tr>\n",
       "    <tr>\n",
       "      <th>2</th>\n",
       "      <td>3</td>\n",
       "      <td>Lexus</td>\n",
       "      <td>LS</td>\n",
       "      <td>500h Exclusive</td>\n",
       "      <td>2021.0</td>\n",
       "      <td>23665.0</td>\n",
       "      <td>Otomatik</td>\n",
       "      <td>Benzin</td>\n",
       "      <td>Sedan</td>\n",
       "      <td>Siyah</td>\n",
       "      <td>3250.0</td>\n",
       "      <td>363.0</td>\n",
       "      <td>0.0</td>\n",
       "      <td>0.0</td>\n",
       "      <td>Galeriden</td>\n",
       "      <td>9000000.0</td>\n",
       "    </tr>\n",
       "    <tr>\n",
       "      <th>3</th>\n",
       "      <td>4</td>\n",
       "      <td>Kuba</td>\n",
       "      <td>City</td>\n",
       "      <td>NaN</td>\n",
       "      <td>2024.0</td>\n",
       "      <td>0.0</td>\n",
       "      <td>Otomatik</td>\n",
       "      <td>Elektrik</td>\n",
       "      <td>Hatchback/3</td>\n",
       "      <td>Kahverengi</td>\n",
       "      <td>NaN</td>\n",
       "      <td>50.0</td>\n",
       "      <td>0.0</td>\n",
       "      <td>0.0</td>\n",
       "      <td>Galeriden</td>\n",
       "      <td>279999.0</td>\n",
       "    </tr>\n",
       "    <tr>\n",
       "      <th>4</th>\n",
       "      <td>5</td>\n",
       "      <td>Lexus</td>\n",
       "      <td>GS</td>\n",
       "      <td>200t F Sport</td>\n",
       "      <td>2016.0</td>\n",
       "      <td>90500.0</td>\n",
       "      <td>Otomatik</td>\n",
       "      <td>Benzin</td>\n",
       "      <td>Sedan</td>\n",
       "      <td>Beyaz</td>\n",
       "      <td>1900.0</td>\n",
       "      <td>238.0</td>\n",
       "      <td>0.0</td>\n",
       "      <td>0.0</td>\n",
       "      <td>Galeriden</td>\n",
       "      <td>2745000.0</td>\n",
       "    </tr>\n",
       "    <tr>\n",
       "      <th>5</th>\n",
       "      <td>6</td>\n",
       "      <td>Infiniti</td>\n",
       "      <td>I30</td>\n",
       "      <td>3.0</td>\n",
       "      <td>1996.0</td>\n",
       "      <td>230000.0</td>\n",
       "      <td>Otomatik</td>\n",
       "      <td>LPG &amp; Benzin</td>\n",
       "      <td>Sedan</td>\n",
       "      <td>Yeşil</td>\n",
       "      <td>2988.0</td>\n",
       "      <td>190.0</td>\n",
       "      <td>NaN</td>\n",
       "      <td>NaN</td>\n",
       "      <td>Sahibinden</td>\n",
       "      <td>225000.0</td>\n",
       "    </tr>\n",
       "    <tr>\n",
       "      <th>6</th>\n",
       "      <td>7</td>\n",
       "      <td>Infiniti</td>\n",
       "      <td>I30</td>\n",
       "      <td>3.0</td>\n",
       "      <td>1996.0</td>\n",
       "      <td>298000.0</td>\n",
       "      <td>Otomatik</td>\n",
       "      <td>LPG &amp; Benzin</td>\n",
       "      <td>Sedan</td>\n",
       "      <td>Yeşil</td>\n",
       "      <td>2988.0</td>\n",
       "      <td>190.0</td>\n",
       "      <td>0.0</td>\n",
       "      <td>7.0</td>\n",
       "      <td>Sahibinden</td>\n",
       "      <td>475000.0</td>\n",
       "    </tr>\n",
       "    <tr>\n",
       "      <th>7</th>\n",
       "      <td>8</td>\n",
       "      <td>Infiniti</td>\n",
       "      <td>Q50</td>\n",
       "      <td>2.0</td>\n",
       "      <td>2016.0</td>\n",
       "      <td>150000.0</td>\n",
       "      <td>Otomatik</td>\n",
       "      <td>Benzin</td>\n",
       "      <td>Sedan</td>\n",
       "      <td>Beyaz</td>\n",
       "      <td>1900.0</td>\n",
       "      <td>213.0</td>\n",
       "      <td>0.0</td>\n",
       "      <td>0.0</td>\n",
       "      <td>Galeriden</td>\n",
       "      <td>1950000.0</td>\n",
       "    </tr>\n",
       "  </tbody>\n",
       "</table>\n",
       "</div>"
      ],
      "text/plain": [
       "   id     marka  seri               model     yil  kilometre vites_tipi  \\\n",
       "0   1     Lexus    ES  300h Business Plus  2023.0    43000.0   Otomatik   \n",
       "1   2     Lexus    GS         200t Luxury  2023.0    25000.0   Otomatik   \n",
       "2   3     Lexus    LS      500h Exclusive  2021.0    23665.0   Otomatik   \n",
       "3   4      Kuba  City                 NaN  2024.0        0.0   Otomatik   \n",
       "4   5     Lexus    GS        200t F Sport  2016.0    90500.0   Otomatik   \n",
       "5   6  Infiniti   I30                 3.0  1996.0   230000.0   Otomatik   \n",
       "6   7  Infiniti   I30                 3.0  1996.0   298000.0   Otomatik   \n",
       "7   8  Infiniti   Q50                 2.0  2016.0   150000.0   Otomatik   \n",
       "\n",
       "     yakit_tipi    kasa_tipi        renk  motor_hacmi  motor_gucu  \\\n",
       "0        Benzin        Sedan       Siyah       2250.0       213.0   \n",
       "1        Benzin  Hatchback/5        Mavi          NaN       213.0   \n",
       "2        Benzin        Sedan       Siyah       3250.0       363.0   \n",
       "3      Elektrik  Hatchback/3  Kahverengi          NaN        50.0   \n",
       "4        Benzin        Sedan       Beyaz       1900.0       238.0   \n",
       "5  LPG & Benzin        Sedan       Yeşil       2988.0       190.0   \n",
       "6  LPG & Benzin        Sedan       Yeşil       2988.0       190.0   \n",
       "7        Benzin        Sedan       Beyaz       1900.0       213.0   \n",
       "\n",
       "   degisen_sayisi  boyali_sayisi      kimden      fiyat  \n",
       "0             1.0            1.0   Galeriden  4950000.0  \n",
       "1             1.0            0.0   Galeriden  1265000.0  \n",
       "2             0.0            0.0   Galeriden  9000000.0  \n",
       "3             0.0            0.0   Galeriden   279999.0  \n",
       "4             0.0            0.0   Galeriden  2745000.0  \n",
       "5             NaN            NaN  Sahibinden   225000.0  \n",
       "6             0.0            7.0  Sahibinden   475000.0  \n",
       "7             0.0            0.0   Galeriden  1950000.0  "
      ]
     },
     "execution_count": 6,
     "metadata": {},
     "output_type": "execute_result"
    }
   ],
   "source": [
    "df.head(8)"
   ]
  },
  {
   "cell_type": "code",
   "execution_count": 8,
   "id": "0627715b-45c7-470e-9f18-02664034ca9b",
   "metadata": {},
   "outputs": [
    {
     "name": "stdout",
     "output_type": "stream",
     "text": [
      "<class 'pandas.core.frame.DataFrame'>\n",
      "RangeIndex: 50755 entries, 0 to 50754\n",
      "Data columns (total 16 columns):\n",
      " #   Column          Non-Null Count  Dtype  \n",
      "---  ------          --------------  -----  \n",
      " 0   id              50755 non-null  int64  \n",
      " 1   marka           50597 non-null  object \n",
      " 2   seri            50597 non-null  object \n",
      " 3   model           50424 non-null  object \n",
      " 4   yil             50597 non-null  float64\n",
      " 5   kilometre       50597 non-null  float64\n",
      " 6   vites_tipi      50572 non-null  object \n",
      " 7   yakit_tipi      50597 non-null  object \n",
      " 8   kasa_tipi       50580 non-null  object \n",
      " 9   renk            50596 non-null  object \n",
      " 10  motor_hacmi     49128 non-null  float64\n",
      " 11  motor_gucu      49094 non-null  float64\n",
      " 12  degisen_sayisi  40339 non-null  float64\n",
      " 13  boyali_sayisi   40339 non-null  float64\n",
      " 14  kimden          50597 non-null  object \n",
      " 15  fiyat           50597 non-null  float64\n",
      "dtypes: float64(7), int64(1), object(8)\n",
      "memory usage: 6.2+ MB\n"
     ]
    }
   ],
   "source": [
    "df.info()"
   ]
  },
  {
   "cell_type": "markdown",
   "id": "bbe5317a-7fd5-4f05-aa0f-bd375a640d4d",
   "metadata": {},
   "source": [
    "## Verinin Temizlenmesi\n",
    "* Yararsız Verinin Çıkarılması ve Düzenlenmesi\n",
    "* Kayıp Veri Sorunu "
   ]
  },
  {
   "cell_type": "markdown",
   "id": "92481d3e-e173-41d2-9175-4830752165ac",
   "metadata": {},
   "source": [
    "### Yararsız Verinin Çıkarılması ve Düzenlenmesi \n",
    "* id sütunu veri hakkında herhangi bir bilgi vermediği için çıkarılacaktır."
   ]
  },
  {
   "cell_type": "code",
   "execution_count": 12,
   "id": "a83079d2-cc59-4000-aeb7-11afc82917d4",
   "metadata": {},
   "outputs": [
    {
     "data": {
      "text/html": [
       "<div>\n",
       "<style scoped>\n",
       "    .dataframe tbody tr th:only-of-type {\n",
       "        vertical-align: middle;\n",
       "    }\n",
       "\n",
       "    .dataframe tbody tr th {\n",
       "        vertical-align: top;\n",
       "    }\n",
       "\n",
       "    .dataframe thead th {\n",
       "        text-align: right;\n",
       "    }\n",
       "</style>\n",
       "<table border=\"1\" class=\"dataframe\">\n",
       "  <thead>\n",
       "    <tr style=\"text-align: right;\">\n",
       "      <th></th>\n",
       "      <th>marka</th>\n",
       "      <th>seri</th>\n",
       "      <th>model</th>\n",
       "      <th>yil</th>\n",
       "      <th>kilometre</th>\n",
       "      <th>vites_tipi</th>\n",
       "      <th>yakit_tipi</th>\n",
       "      <th>kasa_tipi</th>\n",
       "      <th>renk</th>\n",
       "      <th>motor_hacmi</th>\n",
       "      <th>motor_gucu</th>\n",
       "      <th>degisen_sayisi</th>\n",
       "      <th>boyali_sayisi</th>\n",
       "      <th>kimden</th>\n",
       "      <th>fiyat</th>\n",
       "    </tr>\n",
       "  </thead>\n",
       "  <tbody>\n",
       "    <tr>\n",
       "      <th>0</th>\n",
       "      <td>Lexus</td>\n",
       "      <td>ES</td>\n",
       "      <td>300h Business Plus</td>\n",
       "      <td>2023.0</td>\n",
       "      <td>43000.0</td>\n",
       "      <td>Otomatik</td>\n",
       "      <td>Benzin</td>\n",
       "      <td>Sedan</td>\n",
       "      <td>Siyah</td>\n",
       "      <td>2250.0</td>\n",
       "      <td>213.0</td>\n",
       "      <td>1.0</td>\n",
       "      <td>1.0</td>\n",
       "      <td>Galeriden</td>\n",
       "      <td>4950000.0</td>\n",
       "    </tr>\n",
       "    <tr>\n",
       "      <th>1</th>\n",
       "      <td>Lexus</td>\n",
       "      <td>GS</td>\n",
       "      <td>200t Luxury</td>\n",
       "      <td>2023.0</td>\n",
       "      <td>25000.0</td>\n",
       "      <td>Otomatik</td>\n",
       "      <td>Benzin</td>\n",
       "      <td>Hatchback/5</td>\n",
       "      <td>Mavi</td>\n",
       "      <td>NaN</td>\n",
       "      <td>213.0</td>\n",
       "      <td>1.0</td>\n",
       "      <td>0.0</td>\n",
       "      <td>Galeriden</td>\n",
       "      <td>1265000.0</td>\n",
       "    </tr>\n",
       "    <tr>\n",
       "      <th>2</th>\n",
       "      <td>Lexus</td>\n",
       "      <td>LS</td>\n",
       "      <td>500h Exclusive</td>\n",
       "      <td>2021.0</td>\n",
       "      <td>23665.0</td>\n",
       "      <td>Otomatik</td>\n",
       "      <td>Benzin</td>\n",
       "      <td>Sedan</td>\n",
       "      <td>Siyah</td>\n",
       "      <td>3250.0</td>\n",
       "      <td>363.0</td>\n",
       "      <td>0.0</td>\n",
       "      <td>0.0</td>\n",
       "      <td>Galeriden</td>\n",
       "      <td>9000000.0</td>\n",
       "    </tr>\n",
       "    <tr>\n",
       "      <th>3</th>\n",
       "      <td>Kuba</td>\n",
       "      <td>City</td>\n",
       "      <td>NaN</td>\n",
       "      <td>2024.0</td>\n",
       "      <td>0.0</td>\n",
       "      <td>Otomatik</td>\n",
       "      <td>Elektrik</td>\n",
       "      <td>Hatchback/3</td>\n",
       "      <td>Kahverengi</td>\n",
       "      <td>NaN</td>\n",
       "      <td>50.0</td>\n",
       "      <td>0.0</td>\n",
       "      <td>0.0</td>\n",
       "      <td>Galeriden</td>\n",
       "      <td>279999.0</td>\n",
       "    </tr>\n",
       "    <tr>\n",
       "      <th>4</th>\n",
       "      <td>Lexus</td>\n",
       "      <td>GS</td>\n",
       "      <td>200t F Sport</td>\n",
       "      <td>2016.0</td>\n",
       "      <td>90500.0</td>\n",
       "      <td>Otomatik</td>\n",
       "      <td>Benzin</td>\n",
       "      <td>Sedan</td>\n",
       "      <td>Beyaz</td>\n",
       "      <td>1900.0</td>\n",
       "      <td>238.0</td>\n",
       "      <td>0.0</td>\n",
       "      <td>0.0</td>\n",
       "      <td>Galeriden</td>\n",
       "      <td>2745000.0</td>\n",
       "    </tr>\n",
       "  </tbody>\n",
       "</table>\n",
       "</div>"
      ],
      "text/plain": [
       "   marka  seri               model     yil  kilometre vites_tipi yakit_tipi  \\\n",
       "0  Lexus    ES  300h Business Plus  2023.0    43000.0   Otomatik     Benzin   \n",
       "1  Lexus    GS         200t Luxury  2023.0    25000.0   Otomatik     Benzin   \n",
       "2  Lexus    LS      500h Exclusive  2021.0    23665.0   Otomatik     Benzin   \n",
       "3   Kuba  City                 NaN  2024.0        0.0   Otomatik   Elektrik   \n",
       "4  Lexus    GS        200t F Sport  2016.0    90500.0   Otomatik     Benzin   \n",
       "\n",
       "     kasa_tipi        renk  motor_hacmi  motor_gucu  degisen_sayisi  \\\n",
       "0        Sedan       Siyah       2250.0       213.0             1.0   \n",
       "1  Hatchback/5        Mavi          NaN       213.0             1.0   \n",
       "2        Sedan       Siyah       3250.0       363.0             0.0   \n",
       "3  Hatchback/3  Kahverengi          NaN        50.0             0.0   \n",
       "4        Sedan       Beyaz       1900.0       238.0             0.0   \n",
       "\n",
       "   boyali_sayisi     kimden      fiyat  \n",
       "0            1.0  Galeriden  4950000.0  \n",
       "1            0.0  Galeriden  1265000.0  \n",
       "2            0.0  Galeriden  9000000.0  \n",
       "3            0.0  Galeriden   279999.0  \n",
       "4            0.0  Galeriden  2745000.0  "
      ]
     },
     "execution_count": 12,
     "metadata": {},
     "output_type": "execute_result"
    }
   ],
   "source": [
    "df.drop(\"id\", axis=1, inplace=True)\n",
    "df.head()"
   ]
  },
  {
   "cell_type": "markdown",
   "id": "b5dce46d-6b34-4b2c-8acc-fee3dd7e487c",
   "metadata": {},
   "source": [
    "### Kayıp Veri Sorunu\n",
    "* Kayıp veri kavramı veri içerisinde bulunan örneğin herhangi bir sütununda bulunan değerin olmaması anlamına gelir.\n",
    "* Mesela, aşağıda bulununan veride birinci index' te bulunan örneğin motor_hacmi sütununda NaN (Not a Number) yazmaktadır. Bu NaN yazısı örneğe ait motor_hacmi verisinin olmadığı ya da kayıp olduğu anlamına gelir. "
   ]
  },
  {
   "cell_type": "code",
   "execution_count": 15,
   "id": "e43ba8e4-e474-4f37-a117-05223460ee77",
   "metadata": {},
   "outputs": [
    {
     "data": {
      "text/html": [
       "<div>\n",
       "<style scoped>\n",
       "    .dataframe tbody tr th:only-of-type {\n",
       "        vertical-align: middle;\n",
       "    }\n",
       "\n",
       "    .dataframe tbody tr th {\n",
       "        vertical-align: top;\n",
       "    }\n",
       "\n",
       "    .dataframe thead th {\n",
       "        text-align: right;\n",
       "    }\n",
       "</style>\n",
       "<table border=\"1\" class=\"dataframe\">\n",
       "  <thead>\n",
       "    <tr style=\"text-align: right;\">\n",
       "      <th></th>\n",
       "      <th>marka</th>\n",
       "      <th>seri</th>\n",
       "      <th>model</th>\n",
       "      <th>yil</th>\n",
       "      <th>kilometre</th>\n",
       "      <th>vites_tipi</th>\n",
       "      <th>yakit_tipi</th>\n",
       "      <th>kasa_tipi</th>\n",
       "      <th>renk</th>\n",
       "      <th>motor_hacmi</th>\n",
       "      <th>motor_gucu</th>\n",
       "      <th>degisen_sayisi</th>\n",
       "      <th>boyali_sayisi</th>\n",
       "      <th>kimden</th>\n",
       "      <th>fiyat</th>\n",
       "    </tr>\n",
       "  </thead>\n",
       "  <tbody>\n",
       "    <tr>\n",
       "      <th>0</th>\n",
       "      <td>Lexus</td>\n",
       "      <td>ES</td>\n",
       "      <td>300h Business Plus</td>\n",
       "      <td>2023.0</td>\n",
       "      <td>43000.0</td>\n",
       "      <td>Otomatik</td>\n",
       "      <td>Benzin</td>\n",
       "      <td>Sedan</td>\n",
       "      <td>Siyah</td>\n",
       "      <td>2250.0</td>\n",
       "      <td>213.0</td>\n",
       "      <td>1.0</td>\n",
       "      <td>1.0</td>\n",
       "      <td>Galeriden</td>\n",
       "      <td>4950000.0</td>\n",
       "    </tr>\n",
       "    <tr>\n",
       "      <th>1</th>\n",
       "      <td>Lexus</td>\n",
       "      <td>GS</td>\n",
       "      <td>200t Luxury</td>\n",
       "      <td>2023.0</td>\n",
       "      <td>25000.0</td>\n",
       "      <td>Otomatik</td>\n",
       "      <td>Benzin</td>\n",
       "      <td>Hatchback/5</td>\n",
       "      <td>Mavi</td>\n",
       "      <td>NaN</td>\n",
       "      <td>213.0</td>\n",
       "      <td>1.0</td>\n",
       "      <td>0.0</td>\n",
       "      <td>Galeriden</td>\n",
       "      <td>1265000.0</td>\n",
       "    </tr>\n",
       "    <tr>\n",
       "      <th>2</th>\n",
       "      <td>Lexus</td>\n",
       "      <td>LS</td>\n",
       "      <td>500h Exclusive</td>\n",
       "      <td>2021.0</td>\n",
       "      <td>23665.0</td>\n",
       "      <td>Otomatik</td>\n",
       "      <td>Benzin</td>\n",
       "      <td>Sedan</td>\n",
       "      <td>Siyah</td>\n",
       "      <td>3250.0</td>\n",
       "      <td>363.0</td>\n",
       "      <td>0.0</td>\n",
       "      <td>0.0</td>\n",
       "      <td>Galeriden</td>\n",
       "      <td>9000000.0</td>\n",
       "    </tr>\n",
       "    <tr>\n",
       "      <th>3</th>\n",
       "      <td>Kuba</td>\n",
       "      <td>City</td>\n",
       "      <td>NaN</td>\n",
       "      <td>2024.0</td>\n",
       "      <td>0.0</td>\n",
       "      <td>Otomatik</td>\n",
       "      <td>Elektrik</td>\n",
       "      <td>Hatchback/3</td>\n",
       "      <td>Kahverengi</td>\n",
       "      <td>NaN</td>\n",
       "      <td>50.0</td>\n",
       "      <td>0.0</td>\n",
       "      <td>0.0</td>\n",
       "      <td>Galeriden</td>\n",
       "      <td>279999.0</td>\n",
       "    </tr>\n",
       "    <tr>\n",
       "      <th>4</th>\n",
       "      <td>Lexus</td>\n",
       "      <td>GS</td>\n",
       "      <td>200t F Sport</td>\n",
       "      <td>2016.0</td>\n",
       "      <td>90500.0</td>\n",
       "      <td>Otomatik</td>\n",
       "      <td>Benzin</td>\n",
       "      <td>Sedan</td>\n",
       "      <td>Beyaz</td>\n",
       "      <td>1900.0</td>\n",
       "      <td>238.0</td>\n",
       "      <td>0.0</td>\n",
       "      <td>0.0</td>\n",
       "      <td>Galeriden</td>\n",
       "      <td>2745000.0</td>\n",
       "    </tr>\n",
       "  </tbody>\n",
       "</table>\n",
       "</div>"
      ],
      "text/plain": [
       "   marka  seri               model     yil  kilometre vites_tipi yakit_tipi  \\\n",
       "0  Lexus    ES  300h Business Plus  2023.0    43000.0   Otomatik     Benzin   \n",
       "1  Lexus    GS         200t Luxury  2023.0    25000.0   Otomatik     Benzin   \n",
       "2  Lexus    LS      500h Exclusive  2021.0    23665.0   Otomatik     Benzin   \n",
       "3   Kuba  City                 NaN  2024.0        0.0   Otomatik   Elektrik   \n",
       "4  Lexus    GS        200t F Sport  2016.0    90500.0   Otomatik     Benzin   \n",
       "\n",
       "     kasa_tipi        renk  motor_hacmi  motor_gucu  degisen_sayisi  \\\n",
       "0        Sedan       Siyah       2250.0       213.0             1.0   \n",
       "1  Hatchback/5        Mavi          NaN       213.0             1.0   \n",
       "2        Sedan       Siyah       3250.0       363.0             0.0   \n",
       "3  Hatchback/3  Kahverengi          NaN        50.0             0.0   \n",
       "4        Sedan       Beyaz       1900.0       238.0             0.0   \n",
       "\n",
       "   boyali_sayisi     kimden      fiyat  \n",
       "0            1.0  Galeriden  4950000.0  \n",
       "1            0.0  Galeriden  1265000.0  \n",
       "2            0.0  Galeriden  9000000.0  \n",
       "3            0.0  Galeriden   279999.0  \n",
       "4            0.0  Galeriden  2745000.0  "
      ]
     },
     "execution_count": 15,
     "metadata": {},
     "output_type": "execute_result"
    }
   ],
   "source": [
    "df.head()"
   ]
  },
  {
   "cell_type": "markdown",
   "id": "51b5da62-0b45-4965-b805-f7d7683b1aea",
   "metadata": {},
   "source": [
    "* Kayıp veri ile mücadele etmek için,\n",
    "    1. Kayıp veriye ait örnekler veriden çıkarılabilir.\n",
    "    2. Kayıp veriler asıl verinin dağılımını bozmayacak şekilde asıl verinin ortalama, medyan, mod, 0 veya özel bir değer ile doldurulabilir."
   ]
  },
  {
   "cell_type": "code",
   "execution_count": 18,
   "id": "436a0ae8-4641-4f7d-98ef-a15dd93aad2f",
   "metadata": {},
   "outputs": [
    {
     "data": {
      "text/plain": [
       "degisen_sayisi    10416\n",
       "boyali_sayisi     10416\n",
       "motor_gucu         1661\n",
       "motor_hacmi        1627\n",
       "model               331\n",
       "vites_tipi          183\n",
       "kasa_tipi           175\n",
       "renk                159\n",
       "marka               158\n",
       "seri                158\n",
       "yil                 158\n",
       "kilometre           158\n",
       "yakit_tipi          158\n",
       "kimden              158\n",
       "fiyat               158\n",
       "dtype: int64"
      ]
     },
     "execution_count": 18,
     "metadata": {},
     "output_type": "execute_result"
    }
   ],
   "source": [
    "df.isnull().sum().sort_values(ascending=False)"
   ]
  },
  {
   "cell_type": "code",
   "execution_count": 20,
   "id": "cd02a9c3-94c3-40cc-8469-6cc87f8b8b85",
   "metadata": {},
   "outputs": [],
   "source": [
    "# Tüm değişkenleri boş olan satırlar silindi\n",
    "df.dropna(how=\"all\", inplace=True)"
   ]
  },
  {
   "cell_type": "code",
   "execution_count": 22,
   "id": "b18a990b-45e4-4796-b209-23bf584ed560",
   "metadata": {},
   "outputs": [
    {
     "data": {
      "text/plain": [
       "degisen_sayisi    10258\n",
       "boyali_sayisi     10258\n",
       "motor_gucu         1503\n",
       "motor_hacmi        1469\n",
       "model               173\n",
       "vites_tipi           25\n",
       "kasa_tipi            17\n",
       "renk                  1\n",
       "marka                 0\n",
       "seri                  0\n",
       "yil                   0\n",
       "kilometre             0\n",
       "yakit_tipi            0\n",
       "kimden                0\n",
       "fiyat                 0\n",
       "dtype: int64"
      ]
     },
     "execution_count": 22,
     "metadata": {},
     "output_type": "execute_result"
    }
   ],
   "source": [
    "df.isnull().sum().sort_values(ascending=False)"
   ]
  },
  {
   "cell_type": "code",
   "execution_count": 24,
   "id": "81530cca-9f05-4aa5-b7c4-5db755ba537b",
   "metadata": {},
   "outputs": [
    {
     "data": {
      "image/png": "[encoded data removed]",
      "text/plain": [
       "<Figure size 2500x1000 with 2 Axes>"
      ]
     },
     "metadata": {},
     "output_type": "display_data"
    }
   ],
   "source": [
    "msno.matrix(df)\n",
    "plt.show()"
   ]
  },
  {
   "cell_type": "code",
   "execution_count": 26,
   "id": "8e9728a3-0c2e-45ab-9806-010a2189d8a3",
   "metadata": {},
   "outputs": [
    {
     "data": {
      "text/plain": [
       "array(['Sedan', 'Hatchback/5', 'Hatchback/3', 'Cabrio', 'Coupe', 'SUV',\n",
       "       'Station wagon', 'Roadster', '-', 'MPV', nan, 'Pick-up'],\n",
       "      dtype=object)"
      ]
     },
     "execution_count": 26,
     "metadata": {},
     "output_type": "execute_result"
    }
   ],
   "source": [
    "df[\"kasa_tipi\"].unique()"
   ]
  },
  {
   "cell_type": "code",
   "execution_count": 28,
   "id": "a84fbbfb-fc39-47fc-bf30-e3e8489504b9",
   "metadata": {},
   "outputs": [
    {
     "data": {
      "text/html": [
       "<div>\n",
       "<style scoped>\n",
       "    .dataframe tbody tr th:only-of-type {\n",
       "        vertical-align: middle;\n",
       "    }\n",
       "\n",
       "    .dataframe tbody tr th {\n",
       "        vertical-align: top;\n",
       "    }\n",
       "\n",
       "    .dataframe thead th {\n",
       "        text-align: right;\n",
       "    }\n",
       "</style>\n",
       "<table border=\"1\" class=\"dataframe\">\n",
       "  <thead>\n",
       "    <tr style=\"text-align: right;\">\n",
       "      <th></th>\n",
       "      <th>marka</th>\n",
       "      <th>seri</th>\n",
       "      <th>model</th>\n",
       "      <th>yil</th>\n",
       "      <th>kilometre</th>\n",
       "      <th>vites_tipi</th>\n",
       "      <th>yakit_tipi</th>\n",
       "      <th>kasa_tipi</th>\n",
       "      <th>renk</th>\n",
       "      <th>motor_hacmi</th>\n",
       "      <th>motor_gucu</th>\n",
       "      <th>degisen_sayisi</th>\n",
       "      <th>boyali_sayisi</th>\n",
       "      <th>kimden</th>\n",
       "      <th>fiyat</th>\n",
       "    </tr>\n",
       "  </thead>\n",
       "  <tbody>\n",
       "    <tr>\n",
       "      <th>274</th>\n",
       "      <td>Bentley</td>\n",
       "      <td>Continental</td>\n",
       "      <td>GTC</td>\n",
       "      <td>2012.0</td>\n",
       "      <td>45350.0</td>\n",
       "      <td>Otomatik</td>\n",
       "      <td>Benzin</td>\n",
       "      <td>-</td>\n",
       "      <td>Bej</td>\n",
       "      <td>5998.0</td>\n",
       "      <td>560.0</td>\n",
       "      <td>0.0</td>\n",
       "      <td>0.0</td>\n",
       "      <td>Galeriden</td>\n",
       "      <td>11450000.0</td>\n",
       "    </tr>\n",
       "    <tr>\n",
       "      <th>340</th>\n",
       "      <td>Chrysler</td>\n",
       "      <td>Sebring</td>\n",
       "      <td>2.0 CRD Convertible</td>\n",
       "      <td>2008.0</td>\n",
       "      <td>187000.0</td>\n",
       "      <td>Düz</td>\n",
       "      <td>Benzin</td>\n",
       "      <td>-</td>\n",
       "      <td>Siyah</td>\n",
       "      <td>1968.0</td>\n",
       "      <td>140.0</td>\n",
       "      <td>0.0</td>\n",
       "      <td>0.0</td>\n",
       "      <td>Galeriden</td>\n",
       "      <td>949999.0</td>\n",
       "    </tr>\n",
       "    <tr>\n",
       "      <th>372</th>\n",
       "      <td>Chrysler</td>\n",
       "      <td>Sebring</td>\n",
       "      <td>2.7 Limited</td>\n",
       "      <td>2005.0</td>\n",
       "      <td>216000.0</td>\n",
       "      <td>Otomatik</td>\n",
       "      <td>LPG &amp; Benzin</td>\n",
       "      <td>-</td>\n",
       "      <td>Gri (Gümüş)</td>\n",
       "      <td>2736.0</td>\n",
       "      <td>203.0</td>\n",
       "      <td>1.0</td>\n",
       "      <td>1.0</td>\n",
       "      <td>Sahibinden</td>\n",
       "      <td>575000.0</td>\n",
       "    </tr>\n",
       "    <tr>\n",
       "      <th>438</th>\n",
       "      <td>Aston Martin</td>\n",
       "      <td>Virage</td>\n",
       "      <td>Volante</td>\n",
       "      <td>2012.0</td>\n",
       "      <td>81176.0</td>\n",
       "      <td>Otomatik</td>\n",
       "      <td>Benzin</td>\n",
       "      <td>-</td>\n",
       "      <td>Siyah</td>\n",
       "      <td>5935.0</td>\n",
       "      <td>490.0</td>\n",
       "      <td>NaN</td>\n",
       "      <td>NaN</td>\n",
       "      <td>Galeriden</td>\n",
       "      <td>9900000.0</td>\n",
       "    </tr>\n",
       "    <tr>\n",
       "      <th>810</th>\n",
       "      <td>Jaguar</td>\n",
       "      <td>F-Type</td>\n",
       "      <td>2.0i</td>\n",
       "      <td>2018.0</td>\n",
       "      <td>14000.0</td>\n",
       "      <td>Otomatik</td>\n",
       "      <td>Benzin</td>\n",
       "      <td>-</td>\n",
       "      <td>Beyaz</td>\n",
       "      <td>1997.0</td>\n",
       "      <td>300.0</td>\n",
       "      <td>0.0</td>\n",
       "      <td>0.0</td>\n",
       "      <td>Sahibinden</td>\n",
       "      <td>5500000.0</td>\n",
       "    </tr>\n",
       "    <tr>\n",
       "      <th>...</th>\n",
       "      <td>...</td>\n",
       "      <td>...</td>\n",
       "      <td>...</td>\n",
       "      <td>...</td>\n",
       "      <td>...</td>\n",
       "      <td>...</td>\n",
       "      <td>...</td>\n",
       "      <td>...</td>\n",
       "      <td>...</td>\n",
       "      <td>...</td>\n",
       "      <td>...</td>\n",
       "      <td>...</td>\n",
       "      <td>...</td>\n",
       "      <td>...</td>\n",
       "      <td>...</td>\n",
       "    </tr>\n",
       "    <tr>\n",
       "      <th>47327</th>\n",
       "      <td>Volkswagen</td>\n",
       "      <td>EOS</td>\n",
       "      <td>1.6 FSi Comfortline</td>\n",
       "      <td>2007.0</td>\n",
       "      <td>188200.0</td>\n",
       "      <td>Düz</td>\n",
       "      <td>Benzin</td>\n",
       "      <td>-</td>\n",
       "      <td>Gri (Gümüş)</td>\n",
       "      <td>1598.0</td>\n",
       "      <td>115.0</td>\n",
       "      <td>0.0</td>\n",
       "      <td>2.0</td>\n",
       "      <td>Sahibinden</td>\n",
       "      <td>725000.0</td>\n",
       "    </tr>\n",
       "    <tr>\n",
       "      <th>48374</th>\n",
       "      <td>BMW</td>\n",
       "      <td>3 Serisi</td>\n",
       "      <td>320Cd</td>\n",
       "      <td>2005.0</td>\n",
       "      <td>365000.0</td>\n",
       "      <td>Düz</td>\n",
       "      <td>Dizel</td>\n",
       "      <td>-</td>\n",
       "      <td>Siyah</td>\n",
       "      <td>1995.0</td>\n",
       "      <td>150.0</td>\n",
       "      <td>0.0</td>\n",
       "      <td>7.0</td>\n",
       "      <td>Galeriden</td>\n",
       "      <td>976500.0</td>\n",
       "    </tr>\n",
       "    <tr>\n",
       "      <th>48850</th>\n",
       "      <td>Opel</td>\n",
       "      <td>Astra</td>\n",
       "      <td>1.6 Enjoy</td>\n",
       "      <td>2007.0</td>\n",
       "      <td>224000.0</td>\n",
       "      <td>Düz</td>\n",
       "      <td>LPG &amp; Benzin</td>\n",
       "      <td>-</td>\n",
       "      <td>Beyaz</td>\n",
       "      <td>1598.0</td>\n",
       "      <td>115.0</td>\n",
       "      <td>0.0</td>\n",
       "      <td>2.0</td>\n",
       "      <td>Sahibinden</td>\n",
       "      <td>515000.0</td>\n",
       "    </tr>\n",
       "    <tr>\n",
       "      <th>50245</th>\n",
       "      <td>Ford</td>\n",
       "      <td>Focus</td>\n",
       "      <td>1.6 TDCi Titanium</td>\n",
       "      <td>2007.0</td>\n",
       "      <td>225000.0</td>\n",
       "      <td>Düz</td>\n",
       "      <td>LPG &amp; Benzin</td>\n",
       "      <td>-</td>\n",
       "      <td>Siyah</td>\n",
       "      <td>1596.0</td>\n",
       "      <td>100.0</td>\n",
       "      <td>NaN</td>\n",
       "      <td>NaN</td>\n",
       "      <td>Sahibinden</td>\n",
       "      <td>450000.0</td>\n",
       "    </tr>\n",
       "    <tr>\n",
       "      <th>50703</th>\n",
       "      <td>Ford</td>\n",
       "      <td>Escort</td>\n",
       "      <td>1.8 XR3i</td>\n",
       "      <td>1997.0</td>\n",
       "      <td>190000.0</td>\n",
       "      <td>Düz</td>\n",
       "      <td>LPG &amp; Benzin</td>\n",
       "      <td>-</td>\n",
       "      <td>Kırmızı</td>\n",
       "      <td>1796.0</td>\n",
       "      <td>130.0</td>\n",
       "      <td>1.0</td>\n",
       "      <td>11.0</td>\n",
       "      <td>Sahibinden</td>\n",
       "      <td>300000.0</td>\n",
       "    </tr>\n",
       "  </tbody>\n",
       "</table>\n",
       "<p>88 rows × 15 columns</p>\n",
       "</div>"
      ],
      "text/plain": [
       "              marka         seri                model     yil  kilometre  \\\n",
       "274         Bentley  Continental                  GTC  2012.0    45350.0   \n",
       "340        Chrysler      Sebring  2.0 CRD Convertible  2008.0   187000.0   \n",
       "372        Chrysler      Sebring          2.7 Limited  2005.0   216000.0   \n",
       "438    Aston Martin       Virage              Volante  2012.0    81176.0   \n",
       "810          Jaguar       F-Type                 2.0i  2018.0    14000.0   \n",
       "...             ...          ...                  ...     ...        ...   \n",
       "47327    Volkswagen          EOS  1.6 FSi Comfortline  2007.0   188200.0   \n",
       "48374           BMW     3 Serisi                320Cd  2005.0   365000.0   \n",
       "48850          Opel        Astra            1.6 Enjoy  2007.0   224000.0   \n",
       "50245          Ford        Focus    1.6 TDCi Titanium  2007.0   225000.0   \n",
       "50703          Ford       Escort             1.8 XR3i  1997.0   190000.0   \n",
       "\n",
       "      vites_tipi    yakit_tipi kasa_tipi         renk  motor_hacmi  \\\n",
       "274     Otomatik        Benzin         -          Bej       5998.0   \n",
       "340          Düz        Benzin         -        Siyah       1968.0   \n",
       "372     Otomatik  LPG & Benzin         -  Gri (Gümüş)       2736.0   \n",
       "438     Otomatik        Benzin         -        Siyah       5935.0   \n",
       "810     Otomatik        Benzin         -        Beyaz       1997.0   \n",
       "...          ...           ...       ...          ...          ...   \n",
       "47327        Düz        Benzin         -  Gri (Gümüş)       1598.0   \n",
       "48374        Düz         Dizel         -        Siyah       1995.0   \n",
       "48850        Düz  LPG & Benzin         -        Beyaz       1598.0   \n",
       "50245        Düz  LPG & Benzin         -        Siyah       1596.0   \n",
       "50703        Düz  LPG & Benzin         -      Kırmızı       1796.0   \n",
       "\n",
       "       motor_gucu  degisen_sayisi  boyali_sayisi      kimden       fiyat  \n",
       "274         560.0             0.0            0.0   Galeriden  11450000.0  \n",
       "340         140.0             0.0            0.0   Galeriden    949999.0  \n",
       "372         203.0             1.0            1.0  Sahibinden    575000.0  \n",
       "438         490.0             NaN            NaN   Galeriden   9900000.0  \n",
       "810         300.0             0.0            0.0  Sahibinden   5500000.0  \n",
       "...           ...             ...            ...         ...         ...  \n",
       "47327       115.0             0.0            2.0  Sahibinden    725000.0  \n",
       "48374       150.0             0.0            7.0   Galeriden    976500.0  \n",
       "48850       115.0             0.0            2.0  Sahibinden    515000.0  \n",
       "50245       100.0             NaN            NaN  Sahibinden    450000.0  \n",
       "50703       130.0             1.0           11.0  Sahibinden    300000.0  \n",
       "\n",
       "[88 rows x 15 columns]"
      ]
     },
     "execution_count": 28,
     "metadata": {},
     "output_type": "execute_result"
    }
   ],
   "source": [
    "df[df[\"kasa_tipi\"] == \"-\"]"
   ]
  },
  {
   "cell_type": "code",
   "execution_count": 30,
   "id": "4242b401-4dfd-4fc3-8117-9516b293ac6e",
   "metadata": {},
   "outputs": [
    {
     "data": {
      "text/plain": [
       "88"
      ]
     },
     "execution_count": 30,
     "metadata": {},
     "output_type": "execute_result"
    }
   ],
   "source": [
    "len(df[df[\"kasa_tipi\"] == \"-\"])"
   ]
  },
  {
   "cell_type": "code",
   "execution_count": 32,
   "id": "ccfd2266-c134-4761-a68a-f28e0de15668",
   "metadata": {},
   "outputs": [],
   "source": [
    "df = df[df[\"kasa_tipi\"] != \"-\"]"
   ]
  },
  {
   "cell_type": "code",
   "execution_count": 34,
   "id": "0099acd1-7614-404b-96f6-50cfc04b701d",
   "metadata": {},
   "outputs": [
    {
     "data": {
      "text/plain": [
       "array(['Sedan', 'Hatchback/5', 'Hatchback/3', 'Cabrio', 'Coupe', 'SUV',\n",
       "       'Station wagon', 'Roadster', 'MPV', nan, 'Pick-up'], dtype=object)"
      ]
     },
     "execution_count": 34,
     "metadata": {},
     "output_type": "execute_result"
    }
   ],
   "source": [
    "df[\"kasa_tipi\"].unique()"
   ]
  },
  {
   "cell_type": "code",
   "execution_count": 36,
   "id": "f18b70cb-a571-4b46-8496-8865b9d3f0ea",
   "metadata": {},
   "outputs": [
    {
     "name": "stdout",
     "output_type": "stream",
     "text": [
      "degisen_sayisi: %20.27 eksik\n",
      "boyali_sayisi: %20.27 eksik\n",
      "motor_gucu: %2.97 eksik\n",
      "motor_hacmi: %2.90 eksik\n",
      "model: %0.34 eksik\n",
      "vites_tipi: %0.04 eksik\n",
      "kasa_tipi: %0.03 eksik\n",
      "renk: %0.00 eksik\n"
     ]
    }
   ],
   "source": [
    "kayip_veri_yuzdesel = df.isnull().mean() * 100\n",
    "kayip_veri_ozet = kayip_veri_yuzdesel[kayip_veri_yuzdesel > 0].sort_values(ascending=False)\n",
    "\n",
    "for sutun, yuzde in kayip_veri_ozet.items():\n",
    "    print(f\"{sutun}: %{yuzde:.2f} eksik\")"
   ]
  },
  {
   "cell_type": "code",
   "execution_count": 38,
   "id": "9bc7bf9a-0cd0-4a79-aa77-d378f020cdb9",
   "metadata": {},
   "outputs": [
    {
     "data": {
      "text/plain": [
       "Index(['marka', 'seri', 'model', 'yil', 'kilometre', 'vites_tipi',\n",
       "       'yakit_tipi', 'kasa_tipi', 'renk', 'kimden', 'fiyat'],\n",
       "      dtype='object')"
      ]
     },
     "execution_count": 38,
     "metadata": {},
     "output_type": "execute_result"
    }
   ],
   "source": [
    "# %1' in altinda eksik veri varsa o veri silinebilir\n",
    "az_kayip_veri = df.columns[df.isnull().mean() < 0.01]\n",
    "az_kayip_veri"
   ]
  },
  {
   "cell_type": "code",
   "execution_count": 40,
   "id": "667905bd-4e5f-46c5-80c5-6cbef49e6cb8",
   "metadata": {},
   "outputs": [],
   "source": [
    "df.dropna(subset=az_kayip_veri, inplace=True)"
   ]
  },
  {
   "cell_type": "code",
   "execution_count": 42,
   "id": "4386f157-debb-4e3b-a73a-b44e47b0f4af",
   "metadata": {},
   "outputs": [
    {
     "data": {
      "text/plain": [
       "degisen_sayisi    10169\n",
       "boyali_sayisi     10169\n",
       "motor_gucu         1460\n",
       "motor_hacmi        1366\n",
       "marka                 0\n",
       "seri                  0\n",
       "model                 0\n",
       "yil                   0\n",
       "kilometre             0\n",
       "vites_tipi            0\n",
       "yakit_tipi            0\n",
       "kasa_tipi             0\n",
       "renk                  0\n",
       "kimden                0\n",
       "fiyat                 0\n",
       "dtype: int64"
      ]
     },
     "execution_count": 42,
     "metadata": {},
     "output_type": "execute_result"
    }
   ],
   "source": [
    "df.isnull().sum().sort_values(ascending=False)"
   ]
  },
  {
   "cell_type": "code",
   "execution_count": 44,
   "id": "b3475a08-040f-43f9-af7b-08cbefc7efac",
   "metadata": {},
   "outputs": [],
   "source": [
    "df[\"motor_hacmi\"] = df.groupby([\"marka\", \"model\"])[\"motor_hacmi\"].transform(lambda x : x.fillna(x.median()))"
   ]
  },
  {
   "cell_type": "code",
   "execution_count": 46,
   "id": "3b54a8ad-9ec3-4e19-928a-f754d2b3e3c0",
   "metadata": {},
   "outputs": [
    {
     "data": {
      "text/plain": [
       "degisen_sayisi    10169\n",
       "boyali_sayisi     10169\n",
       "motor_gucu         1460\n",
       "motor_hacmi         353\n",
       "marka                 0\n",
       "seri                  0\n",
       "model                 0\n",
       "yil                   0\n",
       "kilometre             0\n",
       "vites_tipi            0\n",
       "yakit_tipi            0\n",
       "kasa_tipi             0\n",
       "renk                  0\n",
       "kimden                0\n",
       "fiyat                 0\n",
       "dtype: int64"
      ]
     },
     "execution_count": 46,
     "metadata": {},
     "output_type": "execute_result"
    }
   ],
   "source": [
    "df.isnull().sum().sort_values(ascending=False)"
   ]
  },
  {
   "cell_type": "code",
   "execution_count": 48,
   "id": "01ab3a2d-b100-4b2c-a0ee-7d6c798f9c64",
   "metadata": {},
   "outputs": [],
   "source": [
    "df.dropna(subset=\"motor_hacmi\", inplace=True)"
   ]
  },
  {
   "cell_type": "code",
   "execution_count": 50,
   "id": "e4c3dbda-814d-4e32-91a1-e805e5c40916",
   "metadata": {},
   "outputs": [
    {
     "data": {
      "text/plain": [
       "degisen_sayisi    10120\n",
       "boyali_sayisi     10120\n",
       "motor_gucu         1421\n",
       "marka                 0\n",
       "seri                  0\n",
       "model                 0\n",
       "yil                   0\n",
       "kilometre             0\n",
       "vites_tipi            0\n",
       "yakit_tipi            0\n",
       "kasa_tipi             0\n",
       "renk                  0\n",
       "motor_hacmi           0\n",
       "kimden                0\n",
       "fiyat                 0\n",
       "dtype: int64"
      ]
     },
     "execution_count": 50,
     "metadata": {},
     "output_type": "execute_result"
    }
   ],
   "source": [
    "df.isnull().sum().sort_values(ascending=False)"
   ]
  },
  {
   "cell_type": "code",
   "execution_count": 52,
   "id": "7d0d87c1-1102-4172-9caf-794d2ada0ab4",
   "metadata": {},
   "outputs": [],
   "source": [
    "df[\"motor_gucu\"] = df.groupby([\"marka\", \"model\"])[\"motor_gucu\"].transform(lambda x : x.fillna(x.median()))"
   ]
  },
  {
   "cell_type": "code",
   "execution_count": 54,
   "id": "84bc3b04-0198-4421-9c3c-7b57bd058b0b",
   "metadata": {},
   "outputs": [
    {
     "data": {
      "text/plain": [
       "19"
      ]
     },
     "execution_count": 54,
     "metadata": {},
     "output_type": "execute_result"
    }
   ],
   "source": [
    "df.motor_gucu.isnull().sum()"
   ]
  },
  {
   "cell_type": "code",
   "execution_count": 56,
   "id": "016da0ac-91ee-4d4e-80a3-87f8d9a5206b",
   "metadata": {},
   "outputs": [],
   "source": [
    "df.dropna(subset=\"motor_gucu\", inplace=True)"
   ]
  },
  {
   "cell_type": "code",
   "execution_count": 58,
   "id": "24061c9b-6a40-46e7-b944-d713b76a284e",
   "metadata": {},
   "outputs": [
    {
     "data": {
      "text/plain": [
       "degisen_sayisi    10113\n",
       "boyali_sayisi     10113\n",
       "marka                 0\n",
       "seri                  0\n",
       "model                 0\n",
       "yil                   0\n",
       "kilometre             0\n",
       "vites_tipi            0\n",
       "yakit_tipi            0\n",
       "kasa_tipi             0\n",
       "renk                  0\n",
       "motor_hacmi           0\n",
       "motor_gucu            0\n",
       "kimden                0\n",
       "fiyat                 0\n",
       "dtype: int64"
      ]
     },
     "execution_count": 58,
     "metadata": {},
     "output_type": "execute_result"
    }
   ],
   "source": [
    "df.isnull().sum().sort_values(ascending=False)"
   ]
  },
  {
   "cell_type": "code",
   "execution_count": 60,
   "id": "65a37b02-ef0f-405f-9544-5bf851ee1c2d",
   "metadata": {},
   "outputs": [],
   "source": [
    "df.loc[(df[\"degisen_sayisi\"].isnull()) & (df[\"boyali_sayisi\"].notnull()), \"degisen_sayisi\"] = 0\n",
    "df.loc[(df[\"boyali_sayisi\"].isnull()) & (df[\"degisen_sayisi\"].notnull()), \"boyali_sayisi\"] = 0"
   ]
  },
  {
   "cell_type": "code",
   "execution_count": 62,
   "id": "22800368-dc33-41bb-bf5a-6c154cd95827",
   "metadata": {},
   "outputs": [
    {
     "data": {
      "text/plain": [
       "degisen_sayisi    10113\n",
       "boyali_sayisi     10113\n",
       "marka                 0\n",
       "seri                  0\n",
       "model                 0\n",
       "yil                   0\n",
       "kilometre             0\n",
       "vites_tipi            0\n",
       "yakit_tipi            0\n",
       "kasa_tipi             0\n",
       "renk                  0\n",
       "motor_hacmi           0\n",
       "motor_gucu            0\n",
       "kimden                0\n",
       "fiyat                 0\n",
       "dtype: int64"
      ]
     },
     "execution_count": 62,
     "metadata": {},
     "output_type": "execute_result"
    }
   ],
   "source": [
    "df.isnull().sum().sort_values(ascending=False)"
   ]
  },
  {
   "cell_type": "code",
   "execution_count": 64,
   "id": "55390516-e67c-41e5-8ab4-829bfbf7841f",
   "metadata": {},
   "outputs": [],
   "source": [
    "df[\"degisen_sayisi\"] = df.groupby([\"marka\", \"model\", \"yil\"])[\"degisen_sayisi\"].transform(lambda x : x.fillna(x.mode().iloc[0] if not x.mode().empty else x))"
   ]
  },
  {
   "cell_type": "code",
   "execution_count": 66,
   "id": "7c122346-b25e-432a-a825-7eef904f723f",
   "metadata": {},
   "outputs": [
    {
     "data": {
      "text/plain": [
       "1099"
      ]
     },
     "execution_count": 66,
     "metadata": {},
     "output_type": "execute_result"
    }
   ],
   "source": [
    "df[\"degisen_sayisi\"].isnull().sum()"
   ]
  },
  {
   "cell_type": "code",
   "execution_count": 68,
   "id": "ad5339ec-d696-4ed8-b889-da2a41c74b3d",
   "metadata": {},
   "outputs": [],
   "source": [
    "df[\"degisen_sayisi\"] = df.groupby([\"marka\", \"model\"])[\"degisen_sayisi\"].transform(lambda x : x.fillna(x.mode().iloc[0] if not x.mode().empty else x))"
   ]
  },
  {
   "cell_type": "code",
   "execution_count": 70,
   "id": "18d4fe07-480a-41cc-96e7-96e020a1b2b4",
   "metadata": {},
   "outputs": [
    {
     "data": {
      "text/plain": [
       "285"
      ]
     },
     "execution_count": 70,
     "metadata": {},
     "output_type": "execute_result"
    }
   ],
   "source": [
    "df[\"degisen_sayisi\"].isnull().sum()"
   ]
  },
  {
   "cell_type": "code",
   "execution_count": 72,
   "id": "0e3db651-259c-474a-8e47-d257ba5e803a",
   "metadata": {},
   "outputs": [],
   "source": [
    "df[\"boyali_sayisi\"] = df.groupby([\"marka\", \"model\", \"yil\"])[\"boyali_sayisi\"].transform(lambda x : x.fillna(x.mode().iloc[0] if not x.mode().empty else x))"
   ]
  },
  {
   "cell_type": "code",
   "execution_count": 74,
   "id": "2cfb2144-f8b2-43ad-81a2-78ba3d516a42",
   "metadata": {},
   "outputs": [
    {
     "data": {
      "text/plain": [
       "1099"
      ]
     },
     "execution_count": 74,
     "metadata": {},
     "output_type": "execute_result"
    }
   ],
   "source": [
    "df[\"boyali_sayisi\"].isnull().sum()"
   ]
  },
  {
   "cell_type": "code",
   "execution_count": 76,
   "id": "e8cce681-1226-49e9-80b2-0f3ffb36f403",
   "metadata": {},
   "outputs": [],
   "source": [
    "df[\"boyali_sayisi\"] = df.groupby([\"marka\", \"model\"])[\"boyali_sayisi\"].transform(lambda x : x.fillna(x.mode().iloc[0] if not x.mode().empty else x))"
   ]
  },
  {
   "cell_type": "code",
   "execution_count": 78,
   "id": "2f2d7344-1689-43a3-8c5a-da028ee91a83",
   "metadata": {},
   "outputs": [
    {
     "data": {
      "text/plain": [
       "285"
      ]
     },
     "execution_count": 78,
     "metadata": {},
     "output_type": "execute_result"
    }
   ],
   "source": [
    "df[\"boyali_sayisi\"].isnull().sum()"
   ]
  },
  {
   "cell_type": "code",
   "execution_count": 80,
   "id": "7c0ba57a-56a9-4529-b0fc-b6032771291e",
   "metadata": {},
   "outputs": [
    {
     "data": {
      "text/plain": [
       "degisen_sayisi    285\n",
       "boyali_sayisi     285\n",
       "marka               0\n",
       "seri                0\n",
       "model               0\n",
       "yil                 0\n",
       "kilometre           0\n",
       "vites_tipi          0\n",
       "yakit_tipi          0\n",
       "kasa_tipi           0\n",
       "renk                0\n",
       "motor_hacmi         0\n",
       "motor_gucu          0\n",
       "kimden              0\n",
       "fiyat               0\n",
       "dtype: int64"
      ]
     },
     "execution_count": 80,
     "metadata": {},
     "output_type": "execute_result"
    }
   ],
   "source": [
    "df.isnull().sum().sort_values(ascending=False)"
   ]
  },
  {
   "cell_type": "code",
   "execution_count": 82,
   "id": "94c9a701-6c10-4746-a5e2-5510f6fdcdf0",
   "metadata": {},
   "outputs": [],
   "source": [
    "df.dropna(subset=\"degisen_sayisi\", inplace=True)"
   ]
  },
  {
   "cell_type": "code",
   "execution_count": 84,
   "id": "11064fac-ed0b-4c79-a448-34e90bde2133",
   "metadata": {},
   "outputs": [],
   "source": [
    "df.dropna(subset=\"boyali_sayisi\", inplace=True)"
   ]
  },
  {
   "cell_type": "code",
   "execution_count": 86,
   "id": "269fbef1-19e9-4eaa-b1a4-1896fe990eca",
   "metadata": {},
   "outputs": [
    {
     "data": {
      "text/plain": [
       "marka             0\n",
       "seri              0\n",
       "model             0\n",
       "yil               0\n",
       "kilometre         0\n",
       "vites_tipi        0\n",
       "yakit_tipi        0\n",
       "kasa_tipi         0\n",
       "renk              0\n",
       "motor_hacmi       0\n",
       "motor_gucu        0\n",
       "degisen_sayisi    0\n",
       "boyali_sayisi     0\n",
       "kimden            0\n",
       "fiyat             0\n",
       "dtype: int64"
      ]
     },
     "execution_count": 86,
     "metadata": {},
     "output_type": "execute_result"
    }
   ],
   "source": [
    "df.isnull().sum().sort_values(ascending=False)"
   ]
  },
  {
   "cell_type": "code",
   "execution_count": 88,
   "id": "b2bad04c-0f4d-4fb6-8a0f-9d011b303d7f",
   "metadata": {},
   "outputs": [
    {
     "data": {
      "text/plain": [
       "(49662, 15)"
      ]
     },
     "execution_count": 88,
     "metadata": {},
     "output_type": "execute_result"
    }
   ],
   "source": [
    "df.shape"
   ]
  },
  {
   "cell_type": "markdown",
   "id": "9ebd676b-2ec0-4742-982d-e55ced2b5c00",
   "metadata": {},
   "source": [
    "### Veri Tipi Değiştirme"
   ]
  },
  {
   "cell_type": "code",
   "execution_count": 91,
   "id": "bc6b11c5-7697-4201-b3c1-dc3fc2739a12",
   "metadata": {},
   "outputs": [
    {
     "name": "stdout",
     "output_type": "stream",
     "text": [
      "<class 'pandas.core.frame.DataFrame'>\n",
      "Index: 49662 entries, 0 to 50754\n",
      "Data columns (total 15 columns):\n",
      " #   Column          Non-Null Count  Dtype  \n",
      "---  ------          --------------  -----  \n",
      " 0   marka           49662 non-null  object \n",
      " 1   seri            49662 non-null  object \n",
      " 2   model           49662 non-null  object \n",
      " 3   yil             49662 non-null  float64\n",
      " 4   kilometre       49662 non-null  float64\n",
      " 5   vites_tipi      49662 non-null  object \n",
      " 6   yakit_tipi      49662 non-null  object \n",
      " 7   kasa_tipi       49662 non-null  object \n",
      " 8   renk            49662 non-null  object \n",
      " 9   motor_hacmi     49662 non-null  float64\n",
      " 10  motor_gucu      49662 non-null  float64\n",
      " 11  degisen_sayisi  49662 non-null  float64\n",
      " 12  boyali_sayisi   49662 non-null  float64\n",
      " 13  kimden          49662 non-null  object \n",
      " 14  fiyat           49662 non-null  float64\n",
      "dtypes: float64(7), object(8)\n",
      "memory usage: 6.1+ MB\n"
     ]
    }
   ],
   "source": [
    "df.info()"
   ]
  },
  {
   "cell_type": "code",
   "execution_count": 93,
   "id": "270d1296-f9c9-44fd-8133-72a203a2348d",
   "metadata": {},
   "outputs": [],
   "source": [
    "sayisal_sutunlar = df.select_dtypes(\"float64\").columns"
   ]
  },
  {
   "cell_type": "code",
   "execution_count": 95,
   "id": "0e62e719-98e1-45c2-acaa-a9d3dcf3debd",
   "metadata": {},
   "outputs": [],
   "source": [
    "for sutun in sayisal_sutunlar:\n",
    "    df[sutun] = df[sutun].astype(\"int64\")"
   ]
  },
  {
   "cell_type": "code",
   "execution_count": 97,
   "id": "0fb11485-da31-4fb1-bdfa-b9867f855ba2",
   "metadata": {},
   "outputs": [
    {
     "name": "stdout",
     "output_type": "stream",
     "text": [
      "<class 'pandas.core.frame.DataFrame'>\n",
      "Index: 49662 entries, 0 to 50754\n",
      "Data columns (total 15 columns):\n",
      " #   Column          Non-Null Count  Dtype \n",
      "---  ------          --------------  ----- \n",
      " 0   marka           49662 non-null  object\n",
      " 1   seri            49662 non-null  object\n",
      " 2   model           49662 non-null  object\n",
      " 3   yil             49662 non-null  int64 \n",
      " 4   kilometre       49662 non-null  int64 \n",
      " 5   vites_tipi      49662 non-null  object\n",
      " 6   yakit_tipi      49662 non-null  object\n",
      " 7   kasa_tipi       49662 non-null  object\n",
      " 8   renk            49662 non-null  object\n",
      " 9   motor_hacmi     49662 non-null  int64 \n",
      " 10  motor_gucu      49662 non-null  int64 \n",
      " 11  degisen_sayisi  49662 non-null  int64 \n",
      " 12  boyali_sayisi   49662 non-null  int64 \n",
      " 13  kimden          49662 non-null  object\n",
      " 14  fiyat           49662 non-null  int64 \n",
      "dtypes: int64(7), object(8)\n",
      "memory usage: 6.1+ MB\n"
     ]
    }
   ],
   "source": [
    "df.info()"
   ]
  },
  {
   "cell_type": "code",
   "execution_count": 99,
   "id": "cf7b148f-4e99-4e9b-aa4f-73e8dd9268a7",
   "metadata": {},
   "outputs": [
    {
     "data": {
      "text/html": [
       "<div>\n",
       "<style scoped>\n",
       "    .dataframe tbody tr th:only-of-type {\n",
       "        vertical-align: middle;\n",
       "    }\n",
       "\n",
       "    .dataframe tbody tr th {\n",
       "        vertical-align: top;\n",
       "    }\n",
       "\n",
       "    .dataframe thead th {\n",
       "        text-align: right;\n",
       "    }\n",
       "</style>\n",
       "<table border=\"1\" class=\"dataframe\">\n",
       "  <thead>\n",
       "    <tr style=\"text-align: right;\">\n",
       "      <th></th>\n",
       "      <th>marka</th>\n",
       "      <th>seri</th>\n",
       "      <th>model</th>\n",
       "      <th>yil</th>\n",
       "      <th>kilometre</th>\n",
       "      <th>vites_tipi</th>\n",
       "      <th>yakit_tipi</th>\n",
       "      <th>kasa_tipi</th>\n",
       "      <th>renk</th>\n",
       "      <th>motor_hacmi</th>\n",
       "      <th>motor_gucu</th>\n",
       "      <th>degisen_sayisi</th>\n",
       "      <th>boyali_sayisi</th>\n",
       "      <th>kimden</th>\n",
       "      <th>fiyat</th>\n",
       "    </tr>\n",
       "  </thead>\n",
       "  <tbody>\n",
       "    <tr>\n",
       "      <th>0</th>\n",
       "      <td>Lexus</td>\n",
       "      <td>ES</td>\n",
       "      <td>300h Business Plus</td>\n",
       "      <td>2023</td>\n",
       "      <td>43000</td>\n",
       "      <td>Otomatik</td>\n",
       "      <td>Benzin</td>\n",
       "      <td>Sedan</td>\n",
       "      <td>Siyah</td>\n",
       "      <td>2250</td>\n",
       "      <td>213</td>\n",
       "      <td>1</td>\n",
       "      <td>1</td>\n",
       "      <td>Galeriden</td>\n",
       "      <td>4950000</td>\n",
       "    </tr>\n",
       "    <tr>\n",
       "      <th>2</th>\n",
       "      <td>Lexus</td>\n",
       "      <td>LS</td>\n",
       "      <td>500h Exclusive</td>\n",
       "      <td>2021</td>\n",
       "      <td>23665</td>\n",
       "      <td>Otomatik</td>\n",
       "      <td>Benzin</td>\n",
       "      <td>Sedan</td>\n",
       "      <td>Siyah</td>\n",
       "      <td>3250</td>\n",
       "      <td>363</td>\n",
       "      <td>0</td>\n",
       "      <td>0</td>\n",
       "      <td>Galeriden</td>\n",
       "      <td>9000000</td>\n",
       "    </tr>\n",
       "    <tr>\n",
       "      <th>4</th>\n",
       "      <td>Lexus</td>\n",
       "      <td>GS</td>\n",
       "      <td>200t F Sport</td>\n",
       "      <td>2016</td>\n",
       "      <td>90500</td>\n",
       "      <td>Otomatik</td>\n",
       "      <td>Benzin</td>\n",
       "      <td>Sedan</td>\n",
       "      <td>Beyaz</td>\n",
       "      <td>1900</td>\n",
       "      <td>238</td>\n",
       "      <td>0</td>\n",
       "      <td>0</td>\n",
       "      <td>Galeriden</td>\n",
       "      <td>2745000</td>\n",
       "    </tr>\n",
       "    <tr>\n",
       "      <th>5</th>\n",
       "      <td>Infiniti</td>\n",
       "      <td>I30</td>\n",
       "      <td>3.0</td>\n",
       "      <td>1996</td>\n",
       "      <td>230000</td>\n",
       "      <td>Otomatik</td>\n",
       "      <td>LPG &amp; Benzin</td>\n",
       "      <td>Sedan</td>\n",
       "      <td>Yeşil</td>\n",
       "      <td>2988</td>\n",
       "      <td>190</td>\n",
       "      <td>0</td>\n",
       "      <td>7</td>\n",
       "      <td>Sahibinden</td>\n",
       "      <td>225000</td>\n",
       "    </tr>\n",
       "    <tr>\n",
       "      <th>6</th>\n",
       "      <td>Infiniti</td>\n",
       "      <td>I30</td>\n",
       "      <td>3.0</td>\n",
       "      <td>1996</td>\n",
       "      <td>298000</td>\n",
       "      <td>Otomatik</td>\n",
       "      <td>LPG &amp; Benzin</td>\n",
       "      <td>Sedan</td>\n",
       "      <td>Yeşil</td>\n",
       "      <td>2988</td>\n",
       "      <td>190</td>\n",
       "      <td>0</td>\n",
       "      <td>7</td>\n",
       "      <td>Sahibinden</td>\n",
       "      <td>475000</td>\n",
       "    </tr>\n",
       "  </tbody>\n",
       "</table>\n",
       "</div>"
      ],
      "text/plain": [
       "      marka seri               model   yil  kilometre vites_tipi  \\\n",
       "0     Lexus   ES  300h Business Plus  2023      43000   Otomatik   \n",
       "2     Lexus   LS      500h Exclusive  2021      23665   Otomatik   \n",
       "4     Lexus   GS        200t F Sport  2016      90500   Otomatik   \n",
       "5  Infiniti  I30                 3.0  1996     230000   Otomatik   \n",
       "6  Infiniti  I30                 3.0  1996     298000   Otomatik   \n",
       "\n",
       "     yakit_tipi kasa_tipi   renk  motor_hacmi  motor_gucu  degisen_sayisi  \\\n",
       "0        Benzin     Sedan  Siyah         2250         213               1   \n",
       "2        Benzin     Sedan  Siyah         3250         363               0   \n",
       "4        Benzin     Sedan  Beyaz         1900         238               0   \n",
       "5  LPG & Benzin     Sedan  Yeşil         2988         190               0   \n",
       "6  LPG & Benzin     Sedan  Yeşil         2988         190               0   \n",
       "\n",
       "   boyali_sayisi      kimden    fiyat  \n",
       "0              1   Galeriden  4950000  \n",
       "2              0   Galeriden  9000000  \n",
       "4              0   Galeriden  2745000  \n",
       "5              7  Sahibinden   225000  \n",
       "6              7  Sahibinden   475000  "
      ]
     },
     "execution_count": 99,
     "metadata": {},
     "output_type": "execute_result"
    }
   ],
   "source": [
    "df.head()"
   ]
  },
  {
   "cell_type": "markdown",
   "id": "558d764d-9fc4-498e-a017-85f94d33ebaf",
   "metadata": {},
   "source": [
    "### Aykırı Değer Analizi"
   ]
  },
  {
   "cell_type": "code",
   "execution_count": 102,
   "id": "8916ae4a-767a-4427-98a1-e48b36e5d378",
   "metadata": {},
   "outputs": [
    {
     "data": {
      "text/plain": [
       "(49662, 15)"
      ]
     },
     "execution_count": 102,
     "metadata": {},
     "output_type": "execute_result"
    }
   ],
   "source": [
    "df.shape"
   ]
  },
  {
   "cell_type": "code",
   "execution_count": 104,
   "id": "a0496214-aaed-421c-99b3-54ba82651ea2",
   "metadata": {},
   "outputs": [
    {
     "data": {
      "image/png": "[encoded data removed]",
      "text/plain": [
       "<Figure size 640x480 with 2 Axes>"
      ]
     },
     "metadata": {},
     "output_type": "display_data"
    }
   ],
   "source": [
    "plt.subplot(1, 2, 1)\n",
    "plt.hist(df[\"kilometre\"], bins=50)\n",
    "plt.title(\"Kilometre Dağılım Grafiği\")\n",
    "plt.xlabel(\"kilometre\")\n",
    "plt.ylabel(\"Adet\")\n",
    "plt.grid(True)\n",
    "\n",
    "plt.subplot(1, 2, 2)\n",
    "sns.boxplot(df[\"kilometre\"])\n",
    "plt.title(\"Kilometre Kutu Grafiği\")\n",
    "plt.tight_layout()\n",
    "plt.show()"
   ]
  },
  {
   "cell_type": "code",
   "execution_count": 106,
   "id": "c50acdc5-4539-43f6-8354-7bfd32ead65b",
   "metadata": {},
   "outputs": [],
   "source": [
    "Q1 = df[\"kilometre\"].quantile(0.25)\n",
    "Q3 = df[\"kilometre\"].quantile(0.75)\n",
    "IQR = Q3 - Q1\n",
    "\n",
    "alt_sinir = Q1 - 1.5 * IQR\n",
    "ust_sinir = Q3 + 1.5 * IQR\n",
    "\n",
    "df = df[(df[\"kilometre\"] >= alt_sinir) & (df[\"kilometre\"] <= ust_sinir)]"
   ]
  },
  {
   "cell_type": "code",
   "execution_count": 108,
   "id": "3d26bbed-8581-4260-921b-1e6e154d15c3",
   "metadata": {},
   "outputs": [
    {
     "data": {
      "text/plain": [
       "(49196, 15)"
      ]
     },
     "execution_count": 108,
     "metadata": {},
     "output_type": "execute_result"
    }
   ],
   "source": [
    "df.shape"
   ]
  },
  {
   "cell_type": "code",
   "execution_count": 110,
   "id": "279632db-2a3d-4b3d-91c1-5f730c76367a",
   "metadata": {},
   "outputs": [
    {
     "data": {
      "image/png": "[encoded data removed]",
      "text/plain": [
       "<Figure size 640x480 with 2 Axes>"
      ]
     },
     "metadata": {},
     "output_type": "display_data"
    }
   ],
   "source": [
    "plt.subplot(1, 2, 1)\n",
    "plt.hist(df[\"kilometre\"], bins=50)\n",
    "plt.title(\"Kilometre Dağılım Grafiği\")\n",
    "plt.xlabel(\"kilometre\")\n",
    "plt.ylabel(\"Adet\")\n",
    "plt.grid(True)\n",
    "\n",
    "plt.subplot(1, 2, 2)\n",
    "sns.boxplot(df[\"kilometre\"])\n",
    "plt.title(\"Kilometre Kutu Grafiği\")\n",
    "plt.tight_layout()\n",
    "plt.show()"
   ]
  },
  {
   "cell_type": "code",
   "execution_count": 112,
   "id": "3e9a3a84-f4e2-4d2e-a247-6bc8e9f6df29",
   "metadata": {},
   "outputs": [
    {
     "data": {
      "image/png": "[encoded data removed]",
      "text/plain": [
       "<Figure size 640x480 with 2 Axes>"
      ]
     },
     "metadata": {},
     "output_type": "display_data"
    }
   ],
   "source": [
    "plt.subplot(1, 2, 1)\n",
    "plt.hist(df[\"motor_gucu\"], bins=50)\n",
    "plt.title(\"Motor Gücü Dağılım Grafiği\")\n",
    "plt.xlabel(\"motor_gucu\")\n",
    "plt.ylabel(\"Adet\")\n",
    "plt.grid(True)\n",
    "\n",
    "plt.subplot(1, 2, 2)\n",
    "sns.boxplot(df[\"motor_gucu\"])\n",
    "plt.title(\"Motor Gücü Kutu Grafiği\")\n",
    "plt.tight_layout()\n",
    "plt.show()"
   ]
  },
  {
   "cell_type": "code",
   "execution_count": 114,
   "id": "8b827b26-da39-4b75-a64d-bda5971f80d4",
   "metadata": {},
   "outputs": [],
   "source": [
    "df = df[df[\"motor_gucu\"] < 400]"
   ]
  },
  {
   "cell_type": "code",
   "execution_count": 116,
   "id": "63f80275-6593-4ac1-a03e-c7c3f84059ff",
   "metadata": {},
   "outputs": [
    {
     "data": {
      "text/plain": [
       "(48987, 15)"
      ]
     },
     "execution_count": 116,
     "metadata": {},
     "output_type": "execute_result"
    }
   ],
   "source": [
    "df.shape"
   ]
  },
  {
   "cell_type": "code",
   "execution_count": 118,
   "id": "e46a0f12-4fab-4a18-9c1b-3d9a3a26f0de",
   "metadata": {},
   "outputs": [
    {
     "data": {
      "image/png": "[encoded data removed]",
      "text/plain": [
       "<Figure size 640x480 with 2 Axes>"
      ]
     },
     "metadata": {},
     "output_type": "display_data"
    }
   ],
   "source": [
    "plt.subplot(1, 2, 1)\n",
    "plt.hist(df[\"motor_gucu\"], bins=50)\n",
    "plt.title(\"Motor Gücü Dağılım Grafiği\")\n",
    "plt.xlabel(\"motor_gucu\")\n",
    "plt.ylabel(\"Adet\")\n",
    "plt.grid(True)\n",
    "\n",
    "plt.subplot(1, 2, 2)\n",
    "sns.boxplot(df[\"motor_gucu\"])\n",
    "plt.title(\"Motor Gücü Kutu Grafiği\")\n",
    "plt.tight_layout()\n",
    "plt.show()"
   ]
  },
  {
   "cell_type": "code",
   "execution_count": 122,
   "id": "75d196ef-efac-4df9-be73-4742ee2f5f5d",
   "metadata": {},
   "outputs": [
    {
     "data": {
      "image/png": "[encoded data removed]",
      "text/plain": [
       "<Figure size 640x480 with 2 Axes>"
      ]
     },
     "metadata": {},
     "output_type": "display_data"
    }
   ],
   "source": [
    "plt.subplot(1, 2, 1)\n",
    "plt.hist(df['fiyat'], bins=50)\n",
    "plt.title(\"Fiyat Dağılım Grafiği\")\n",
    "plt.xlabel(\"fiyat\")\n",
    "plt.ylabel(\"Adet\")\n",
    "plt.grid(True)\n",
    "\n",
    "plt.subplot(1, 2, 2)\n",
    "sns.boxplot(df[\"fiyat\"])\n",
    "plt.title(\"Fiyat Kutu Grafiği\")\n",
    "plt.tight_layout()\n",
    "plt.show()"
   ]
  },
  {
   "cell_type": "code",
   "execution_count": 124,
   "id": "b99196e1-36c1-4ebc-89b6-de1757502c06",
   "metadata": {},
   "outputs": [],
   "source": [
    "df = df[df[\"fiyat\"] < 15000000]"
   ]
  },
  {
   "cell_type": "code",
   "execution_count": 126,
   "id": "b7ca0a38-75ab-4f3e-89df-8d57409c8aea",
   "metadata": {},
   "outputs": [
    {
     "data": {
      "text/plain": [
       "(48969, 15)"
      ]
     },
     "execution_count": 126,
     "metadata": {},
     "output_type": "execute_result"
    }
   ],
   "source": [
    "df.shape"
   ]
  },
  {
   "cell_type": "code",
   "execution_count": 128,
   "id": "e4417a9e-6660-4bd7-baf5-e3a64acc1768",
   "metadata": {},
   "outputs": [
    {
     "data": {
      "image/png": "[encoded data removed]",
      "text/plain": [
       "<Figure size 640x480 with 2 Axes>"
      ]
     },
     "metadata": {},
     "output_type": "display_data"
    }
   ],
   "source": [
    "plt.subplot(1, 2, 1)\n",
    "plt.hist(df['fiyat'], bins=50)\n",
    "plt.title(\"FiyatDağılımı\")\n",
    "plt.xlabel(\"fiyat\")\n",
    "plt.ylabel(\"Adet\")\n",
    "plt.grid(True)\n",
    "\n",
    "plt.subplot(1, 2, 2)\n",
    "sns.boxplot(df[\"fiyat\"])\n",
    "plt.title(\"Fiyat Kutu Grafiği\")\n",
    "plt.tight_layout()\n",
    "plt.show()"
   ]
  },
  {
   "cell_type": "code",
   "execution_count": 130,
   "id": "140c020d-4bdd-462f-9960-e104c995b9a4",
   "metadata": {},
   "outputs": [
    {
     "data": {
      "text/html": [
       "<div>\n",
       "<style scoped>\n",
       "    .dataframe tbody tr th:only-of-type {\n",
       "        vertical-align: middle;\n",
       "    }\n",
       "\n",
       "    .dataframe tbody tr th {\n",
       "        vertical-align: top;\n",
       "    }\n",
       "\n",
       "    .dataframe thead th {\n",
       "        text-align: right;\n",
       "    }\n",
       "</style>\n",
       "<table border=\"1\" class=\"dataframe\">\n",
       "  <thead>\n",
       "    <tr style=\"text-align: right;\">\n",
       "      <th></th>\n",
       "      <th>count</th>\n",
       "      <th>mean</th>\n",
       "      <th>std</th>\n",
       "      <th>min</th>\n",
       "      <th>25%</th>\n",
       "      <th>50%</th>\n",
       "      <th>75%</th>\n",
       "      <th>max</th>\n",
       "    </tr>\n",
       "  </thead>\n",
       "  <tbody>\n",
       "    <tr>\n",
       "      <th>yil</th>\n",
       "      <td>48969.0</td>\n",
       "      <td>2010.379975</td>\n",
       "      <td>8.372904</td>\n",
       "      <td>1971.0</td>\n",
       "      <td>2005.0</td>\n",
       "      <td>2012.0</td>\n",
       "      <td>2016.0</td>\n",
       "      <td>2025.0</td>\n",
       "    </tr>\n",
       "    <tr>\n",
       "      <th>kilometre</th>\n",
       "      <td>48969.0</td>\n",
       "      <td>188856.077049</td>\n",
       "      <td>94398.847165</td>\n",
       "      <td>0.0</td>\n",
       "      <td>118000.0</td>\n",
       "      <td>189000.0</td>\n",
       "      <td>254000.0</td>\n",
       "      <td>463000.0</td>\n",
       "    </tr>\n",
       "    <tr>\n",
       "      <th>motor_hacmi</th>\n",
       "      <td>48969.0</td>\n",
       "      <td>1516.417897</td>\n",
       "      <td>287.749033</td>\n",
       "      <td>658.0</td>\n",
       "      <td>1372.0</td>\n",
       "      <td>1500.0</td>\n",
       "      <td>1596.0</td>\n",
       "      <td>6001.0</td>\n",
       "    </tr>\n",
       "    <tr>\n",
       "      <th>motor_gucu</th>\n",
       "      <td>48969.0</td>\n",
       "      <td>111.185362</td>\n",
       "      <td>37.522909</td>\n",
       "      <td>39.0</td>\n",
       "      <td>88.0</td>\n",
       "      <td>105.0</td>\n",
       "      <td>124.0</td>\n",
       "      <td>388.0</td>\n",
       "    </tr>\n",
       "    <tr>\n",
       "      <th>degisen_sayisi</th>\n",
       "      <td>48969.0</td>\n",
       "      <td>0.482652</td>\n",
       "      <td>0.885445</td>\n",
       "      <td>0.0</td>\n",
       "      <td>0.0</td>\n",
       "      <td>0.0</td>\n",
       "      <td>1.0</td>\n",
       "      <td>10.0</td>\n",
       "    </tr>\n",
       "    <tr>\n",
       "      <th>boyali_sayisi</th>\n",
       "      <td>48969.0</td>\n",
       "      <td>2.135494</td>\n",
       "      <td>2.967572</td>\n",
       "      <td>0.0</td>\n",
       "      <td>0.0</td>\n",
       "      <td>1.0</td>\n",
       "      <td>3.0</td>\n",
       "      <td>12.0</td>\n",
       "    </tr>\n",
       "    <tr>\n",
       "      <th>fiyat</th>\n",
       "      <td>48969.0</td>\n",
       "      <td>802685.758643</td>\n",
       "      <td>759047.655552</td>\n",
       "      <td>10000.0</td>\n",
       "      <td>365000.0</td>\n",
       "      <td>605000.0</td>\n",
       "      <td>999000.0</td>\n",
       "      <td>14950000.0</td>\n",
       "    </tr>\n",
       "  </tbody>\n",
       "</table>\n",
       "</div>"
      ],
      "text/plain": [
       "                  count           mean            std      min       25%  \\\n",
       "yil             48969.0    2010.379975       8.372904   1971.0    2005.0   \n",
       "kilometre       48969.0  188856.077049   94398.847165      0.0  118000.0   \n",
       "motor_hacmi     48969.0    1516.417897     287.749033    658.0    1372.0   \n",
       "motor_gucu      48969.0     111.185362      37.522909     39.0      88.0   \n",
       "degisen_sayisi  48969.0       0.482652       0.885445      0.0       0.0   \n",
       "boyali_sayisi   48969.0       2.135494       2.967572      0.0       0.0   \n",
       "fiyat           48969.0  802685.758643  759047.655552  10000.0  365000.0   \n",
       "\n",
       "                     50%       75%         max  \n",
       "yil               2012.0    2016.0      2025.0  \n",
       "kilometre       189000.0  254000.0    463000.0  \n",
       "motor_hacmi       1500.0    1596.0      6001.0  \n",
       "motor_gucu         105.0     124.0       388.0  \n",
       "degisen_sayisi       0.0       1.0        10.0  \n",
       "boyali_sayisi        1.0       3.0        12.0  \n",
       "fiyat           605000.0  999000.0  14950000.0  "
      ]
     },
     "execution_count": 130,
     "metadata": {},
     "output_type": "execute_result"
    }
   ],
   "source": [
    "df.describe().T"
   ]
  },
  {
   "cell_type": "code",
   "execution_count": 132,
   "id": "620841f5-6bdd-493e-914b-5ead0f1e4ff7",
   "metadata": {},
   "outputs": [
    {
     "name": "stdout",
     "output_type": "stream",
     "text": [
      "Toplam temizlenen veri sayısı: 1628\n"
     ]
    }
   ],
   "source": [
    "# Toplam temizlenen veri sayısı\n",
    "print(f\"Toplam temizlenen veri sayısı: {50597 - 48969}\")"
   ]
  },
  {
   "cell_type": "code",
   "execution_count": 134,
   "id": "47c15979-b3a1-4956-9de9-fceb0497c30f",
   "metadata": {},
   "outputs": [],
   "source": [
    "df.to_csv(\"temizlenmis_otomobil_verisi.csv\", index=False)"
   ]
  },
  {
   "cell_type": "code",
   "execution_count": null,
   "id": "e963c823-6451-406c-b921-d253f24ac06b",
   "metadata": {},
   "outputs": [],
   "source": []
  }
 ],
 "metadata": {
  "kernelspec": {
   "display_name": "Python 3 (ipykernel)",
   "language": "python",
   "name": "python3"
  },
  "language_info": {
   "codemirror_mode": {
    "name": "ipython",
    "version": 3
   },
   "file_extension": ".py",
   "mimetype": "text/x-python",
   "name": "python",
   "nbconvert_exporter": "python",
   "pygments_lexer": "ipython3",
   "version": "3.12.9"
  }
 },
 "nbformat": 4,
 "nbformat_minor": 5
}
